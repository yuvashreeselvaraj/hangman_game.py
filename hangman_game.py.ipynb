{
 "cells": [
  {
   "cell_type": "code",
   "execution_count": null,
   "metadata": {},
   "outputs": [
    {
     "name": "stdout",
     "output_type": "stream",
     "text": [
      "hello, what is your name?yuva\n",
      "hello yuva ,\n",
      ">start or pause or quitstart\n",
      "Come on yuva Let start the game\n",
      "Guessb\n",
      "-----b--Guessc\n",
      "c-c-----Guessu\n",
      "-u-u----Guessb\n",
      "-----b--"
     ]
    }
   ],
   "source": [
    "user_name=input('hello, what is your name?')\n",
    "print(\"hello\",user_name,\",\")\n",
    "command=\"\"\n",
    "command=(\">\")\n",
    "command=input(\">start or pause or quit\").lower()\n",
    "if command=='start':\n",
    "    print(\"Come on\",user_name,\"Let start the game\")\n",
    "elif command=='pause':\n",
    "    print(\"game paused\")\n",
    "elif command=='quit':\n",
    "    print('quit')\n",
    "else:\n",
    "    print(\"sorry,i can't understand\")\n",
    "import random\n",
    "secret_word=random.choice(['blueberry','cucumber','huckleberry','avacado','pineapple'])\n",
    "guesses = ''\n",
    "i=0\n",
    "while i<4:\n",
    "    user_guess=input(\"Guess\")\n",
    "    i=i+1\n",
    "    for characters in secret_word:\n",
    "        if characters in user_guess:\n",
    "            print(characters, end = '')\n",
    "            guesses +=user_guess\n",
    "        else:\n",
    "            print('-', end = '')\n",
    "final_guess=input(\"please enter your final guess\")\n",
    "if final_guess==secret_word:\n",
    "    print(\"Congrats,You won the game\", secret_word)\n",
    "else:\n",
    "    print(\"Sorry,You loss the game,better luck next time\", \"the secret word is\", secret_word)    "
   ]
  },
  {
   "cell_type": "code",
   "execution_count": null,
   "metadata": {},
   "outputs": [],
   "source": []
  },
  {
   "cell_type": "code",
   "execution_count": null,
   "metadata": {},
   "outputs": [],
   "source": []
  }
 ],
 "metadata": {
  "kernelspec": {
   "display_name": "Python 3",
   "language": "python",
   "name": "python3"
  }
 },
 "nbformat": 4,
 "nbformat_minor": 2
}
